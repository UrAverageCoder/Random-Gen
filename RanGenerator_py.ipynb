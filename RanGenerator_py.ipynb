{
  "nbformat": 4,
  "nbformat_minor": 0,
  "metadata": {
    "colab": {
      "name": "RanGenerator.py",
      "provenance": [],
      "authorship_tag": "ABX9TyMPut3wDzKRECQuxL7XO3dr",
      "include_colab_link": true
    },
    "kernelspec": {
      "name": "python3",
      "display_name": "Python 3"
    }
  },
  "cells": [
    {
      "cell_type": "markdown",
      "metadata": {
        "id": "view-in-github",
        "colab_type": "text"
      },
      "source": [
        "<a href=\"https://colab.research.google.com/github/UrAverageCoder/Random-Gen/blob/main/RanGenerator_py.ipynb\" target=\"_parent\"><img src=\"https://colab.research.google.com/assets/colab-badge.svg\" alt=\"Open In Colab\"/></a>"
      ]
    },
    {
      "cell_type": "code",
      "metadata": {
        "colab": {
          "base_uri": "https://localhost:8080/"
        },
        "id": "8v6DtG_g0Z6z",
        "outputId": "54a110c7-3517-4659-ad85-577e34c610ea"
      },
      "source": [
        "import random # This module is used to randomly select options.\r\n",
        "import time # This module is for the loading sequence.\r\n",
        "\r\n",
        "# This is the list of options.\r\n",
        "people = [\r\n",
        "         'Dad',\r\n",
        "         'Kia',\r\n",
        "         'Sharraine',\r\n",
        "         'Mackee',\r\n",
        "         'Riya',\r\n",
        "         'Sammie_and_Robbie',\r\n",
        "         'Coach',\r\n",
        "         'Tam',\r\n",
        "         'Twon',\r\n",
        "]\r\n",
        "\r\n",
        "selected = random.choice(people)  # The command to start the random sequence.\r\n",
        "\r\n",
        "ans = input(\"Do you want to call someone? yes/no \") # The question.\r\n",
        "\r\n",
        "if ans == \"yes\":   # If yo feel like talking, this should happen.\r\n",
        "  print('Ok lets see...')\r\n",
        "  time.sleep(2)    # The amont of time in between the next string.\r\n",
        "  print(\"************\")\r\n",
        "  print(\"You should call\", selected) # The outcome.\r\n",
        "\r\n",
        "elif ans == \"no\":  # If you dont feel like talking, this should happen.\r\n",
        "    print('Find something else to do with your time then.')\r\n"
      ],
      "execution_count": 9,
      "outputs": [
        {
          "output_type": "stream",
          "text": [
            "Do you want to call someone? yes/no yes\n",
            "Ok lets see...\n",
            "************\n",
            "You should call Tam\n"
          ],
          "name": "stdout"
        }
      ]
    }
  ]
}